{
 "cells": [
  {
   "cell_type": "markdown",
   "metadata": {},
   "source": [
    "## Lista de exercicio 4\n",
    "\n",
    "Exercício 01 - Crie uma lista com nomes de 4 times de futebol.\n",
    "a) Palmeiras\n",
    "b) São Paulo\n",
    "c) Santos\n",
    "d) Água Santa\n",
    "e) Acesse o time que está na 3a posição.\n",
    "f) Crie uma lista com duas listas de 3 times de futebol, cada uma de uma \n",
    "divisão diferente."
   ]
  },
  {
   "cell_type": "code",
   "execution_count": 3,
   "metadata": {},
   "outputs": [
    {
     "name": "stdout",
     "output_type": "stream",
     "text": [
      "Santos\n"
     ]
    }
   ],
   "source": [
    "times= ['Palmeiras', 'São Paulo', 'Santos', 'Água Santa']\n",
    "print(times[2])\n",
    "\n",
    "# f) Crie uma lista com duas listas de 3 times de futebol, cada uma de uma divisão diferente.\n",
    "\n"
   ]
  },
  {
   "cell_type": "code",
   "execution_count": 5,
   "metadata": {},
   "outputs": [
    {
     "name": "stdout",
     "output_type": "stream",
     "text": [
      "[['São Caetano', 'Palmeiras', 'Curitiba', 'sport'], ['corinthias', 'Atletico MG', 'Santos', ' São Paulo']]\n"
     ]
    },
    {
     "data": {
      "text/plain": [
       "'Santos'"
      ]
     },
     "execution_count": 5,
     "metadata": {},
     "output_type": "execute_result"
    }
   ],
   "source": [
    "times_A = ['São Caetano', 'Palmeiras', 'Curitiba', 'sport']\n",
    "times_B= ['corinthias', 'Atletico MG','Santos', ' São Paulo']\n",
    "lista_times=[times_A, times_B]\n",
    "print(lista_times)\n",
    "#[['São Caetano', 'Palmeiras', 'Curitiba', 'sport'], ['corinthias', 'Atletico MG', 'Santos', ' São Paulo']]\n",
    "\n",
    "# Se quisermos acessar o elemento \"SANTOS\" devemos considerar que ele tranformou as listas em 2 elementos entao devemos colocar assim \n",
    "lista_times[1][2] \n",
    "# sendo o [1] referente a primeira lista e [2] referente ao elemento que está na posição 2 da lista"
   ]
  },
  {
   "cell_type": "markdown",
   "metadata": {},
   "source": [
    "#### Exercício 02 - Crie uma lista com 3 diferentes moedas. Acrescente mais 2 outras moedas à essa mesma lista.\n"
   ]
  },
  {
   "cell_type": "code",
   "execution_count": 13,
   "metadata": {},
   "outputs": [
    {
     "name": "stdout",
     "output_type": "stream",
     "text": [
      "['real', 'euro', 'dolar', 'peso', 'rupia']\n",
      "['real', 'cruzeiro', 'euro', 'dolar', 'peso', 'rupia']\n",
      "['real', 'cruzeiro', 'euro', 'dolar', 'peso']\n"
     ]
    }
   ],
   "source": [
    "lista_moedas=['real', 'euro', 'dolar']\n",
    "lista_moedas.append('peso')\n",
    "lista_moedas.append('rupia')\n",
    "print(lista_moedas)\n",
    "#para adicionar novos elementos devemos usar .append e ele sempre vai pro final da lista\n",
    "#para escolher a posição deverá ser usado .insert(posição,\"informação\")\n",
    "lista_moedas.insert(1,'cruzeiro')\n",
    "print(lista_moedas)\n",
    "# para excluir um elemento lista.remove(\"o elemento\")\n",
    "lista_moedas.remove(\"rupia\")\n",
    "print(lista_moedas)"
   ]
  },
  {
   "cell_type": "markdown",
   "metadata": {},
   "source": [
    "#### Exercício 03 - Crie uma string com a lista do exercício anterior.\n"
   ]
  },
  {
   "cell_type": "code",
   "execution_count": 14,
   "metadata": {},
   "outputs": [
    {
     "name": "stdout",
     "output_type": "stream",
     "text": [
      "real;cruzeiro;euro;dolar;peso\n",
      "<class 'str'>\n"
     ]
    }
   ],
   "source": [
    "lista_moedas2 = ';'.join(lista_moedas)\n",
    "print(lista_moedas2)\n",
    "print(type(lista_moedas2))"
   ]
  },
  {
   "cell_type": "markdown",
   "metadata": {},
   "source": [
    "##### Exercício 04 - Agora utilize a string do exercício 6 para recriar uma lista."
   ]
  },
  {
   "cell_type": "code",
   "execution_count": 18,
   "metadata": {},
   "outputs": [
    {
     "name": "stdout",
     "output_type": "stream",
     "text": [
      "['real', 'cruzeiro', 'euro', 'dolar', 'peso']\n"
     ]
    }
   ],
   "source": [
    "lista_moedas3=lista_moedas2.split(';')\n",
    "print(lista_moedas3)"
   ]
  },
  {
   "cell_type": "markdown",
   "metadata": {},
   "source": [
    "#### Exercício 05 - Crie um dicionário chamado cardápio em que as chaves são os dias da semana e os respectivos valores sejam os pratos do dia"
   ]
  },
  {
   "cell_type": "code",
   "execution_count": 34,
   "metadata": {},
   "outputs": [
    {
     "name": "stdout",
     "output_type": "stream",
     "text": [
      "<class 'dict'>\n",
      "{'segunda_feira': 'feijao_tropero', 'terça_feira': 'parmegiana', 'quarta-feira': 'feijoada', 'quinta_feira': 'sopa', 'sexta_feira': 'costela', 'sabado': 'lasanha', 'domingo': 'filé_com_fritas'}\n"
     ]
    },
    {
     "data": {
      "text/plain": [
       "'feijoada'"
      ]
     },
     "execution_count": 34,
     "metadata": {},
     "output_type": "execute_result"
    }
   ],
   "source": [
    "cardapio= {\n",
    "    'segunda_feira':'feijao_tropero',\n",
    "    'terça_feira':'parmegiana',\n",
    "    'quarta-feira':'feijoada',\n",
    "    'quinta_feira':'sopa',\n",
    "    'sexta_feira':'costela',\n",
    "    'sabado':'lasanha',\n",
    "    'domingo':'filé_com_fritas'\n",
    "    }\n",
    "print(type(cardapio))\n",
    "print(cardapio)\n",
    "cardapio['quarta-feira']"
   ]
  },
  {
   "cell_type": "markdown",
   "metadata": {},
   "source": [
    "#### Exercício 06 - Crie um dicionário chamado hemograma que contenha as seguintes chaves:valor.\n",
    "• hemacias: 4.71\n",
    "• hemoglobina: 14.1\n",
    "• hematocrito: 41.2\n",
    "• linfócitos: 38\n",
    "• monocitos: 7\n",
    "• resultado: saudável"
   ]
  },
  {
   "cell_type": "code",
   "execution_count": 32,
   "metadata": {},
   "outputs": [
    {
     "name": "stdout",
     "output_type": "stream",
     "text": [
      "<class 'dict'>\n"
     ]
    }
   ],
   "source": [
    "hemograma = {\n",
    "    'hemacias':4.17,\n",
    "    'hemoglobina':14.1,\n",
    "    'hematocrito':14.2,\n",
    "    'linfócitos':38,\n",
    "    'monocitos':7,\n",
    "    \"resultado\": \"saudável\"\n",
    "}\n",
    "print(type(hemograma))"
   ]
  },
  {
   "cell_type": "markdown",
   "metadata": {},
   "source": [
    "#### Exercício 07 - Corrija o dicionário acima com monocitos:12"
   ]
  },
  {
   "cell_type": "code",
   "execution_count": 33,
   "metadata": {},
   "outputs": [
    {
     "name": "stdout",
     "output_type": "stream",
     "text": [
      "{'hemacias': 4.17, 'hemoglobina': 14.1, 'hematocrito': 14.2, 'linfócitos': 38, 'monocitos': '12', 'resultado': 'saudável'}\n"
     ]
    }
   ],
   "source": [
    "hemograma [\"monocitos\"] = \"12\"\n",
    "print(hemograma)"
   ]
  },
  {
   "cell_type": "code",
   "execution_count": null,
   "metadata": {},
   "outputs": [],
   "source": []
  }
 ],
 "metadata": {
  "kernelspec": {
   "display_name": "Python 3",
   "language": "python",
   "name": "python3"
  },
  "language_info": {
   "codemirror_mode": {
    "name": "ipython",
    "version": 3
   },
   "file_extension": ".py",
   "mimetype": "text/x-python",
   "name": "python",
   "nbconvert_exporter": "python",
   "pygments_lexer": "ipython3",
   "version": "3.11.0"
  }
 },
 "nbformat": 4,
 "nbformat_minor": 2
}
