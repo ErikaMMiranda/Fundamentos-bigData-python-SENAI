{
 "cells": [
  {
   "cell_type": "markdown",
   "metadata": {},
   "source": [
    "##### Importar as bibliotecas"
   ]
  },
  {
   "cell_type": "code",
   "execution_count": 6,
   "metadata": {},
   "outputs": [
    {
     "ename": "FileNotFoundError",
     "evalue": "[WinError 3] O sistema não pode encontrar o caminho especificado: './Desafio 01 - Super Atacadista/arquivos/vendas/'",
     "output_type": "error",
     "traceback": [
      "\u001b[1;31m---------------------------------------------------------------------------\u001b[0m",
      "\u001b[1;31mFileNotFoundError\u001b[0m                         Traceback (most recent call last)",
      "\u001b[1;32mc:\\Users\\FIC\\Documents\\fundamentos-datapython-erika\\desafio-python-erika\\desafio-final-parte1.ipynb Cell 2\u001b[0m line \u001b[0;36m1\n\u001b[0;32m     <a href='vscode-notebook-cell:/c%3A/Users/FIC/Documents/fundamentos-datapython-erika/desafio-python-erika/desafio-final-parte1.ipynb#W1sZmlsZQ%3D%3D?line=13'>14</a>\u001b[0m diretorios \u001b[39m=\u001b[39m []         \u001b[39m# Lista Vazia\u001b[39;00m\n\u001b[0;32m     <a href='vscode-notebook-cell:/c%3A/Users/FIC/Documents/fundamentos-datapython-erika/desafio-python-erika/desafio-final-parte1.ipynb#W1sZmlsZQ%3D%3D?line=15'>16</a>\u001b[0m \u001b[39m# LOCALIZAR OS ARQUIVOS E COMBINAR COM O CAMINHO DA PASTA\u001b[39;00m\n\u001b[1;32m---> <a href='vscode-notebook-cell:/c%3A/Users/FIC/Documents/fundamentos-datapython-erika/desafio-python-erika/desafio-final-parte1.ipynb#W1sZmlsZQ%3D%3D?line=16'>17</a>\u001b[0m \u001b[39mfor\u001b[39;00m file \u001b[39min\u001b[39;00m os\u001b[39m.\u001b[39;49mlistdir(caminhoDaPasta):\n\u001b[0;32m     <a href='vscode-notebook-cell:/c%3A/Users/FIC/Documents/fundamentos-datapython-erika/desafio-python-erika/desafio-final-parte1.ipynb#W1sZmlsZQ%3D%3D?line=17'>18</a>\u001b[0m     fullPath \u001b[39m=\u001b[39m caminhoDaPasta \u001b[39m+\u001b[39m file\n\u001b[0;32m     <a href='vscode-notebook-cell:/c%3A/Users/FIC/Documents/fundamentos-datapython-erika/desafio-python-erika/desafio-final-parte1.ipynb#W1sZmlsZQ%3D%3D?line=18'>19</a>\u001b[0m     diretorios\u001b[39m.\u001b[39mappend(fullPath)\n",
      "\u001b[1;31mFileNotFoundError\u001b[0m: [WinError 3] O sistema não pode encontrar o caminho especificado: './Desafio 01 - Super Atacadista/arquivos/vendas/'"
     ]
    }
   ],
   "source": [
    "import pandas as pd                     # LER E MANIPULAR ARQUIVOS DISTINTOS\n",
    "import os                               # GERENCIAR O SISTEMA OPERACIONAL\n",
    "import matplotlib.pyplot as plt         # VISUALIZAR DADOS DE FORMA GRÁFICA\n",
    "import seaborn as sns                   # VISUALIZAR DADOS DE FORMA GRÁFICA\n",
    "\n",
    "######################## CARREGAR OS ARQUIVOS DE VENDAS ###############################\n",
    "\n",
    "\n",
    "# PASTA QUE CONTÉM TODOS OS ARQUIVOS\n",
    "caminhoDaPasta = './Desafio 01 - Super Atacadista/arquivos/vendas/'\n",
    "\n",
    "######## AGRUPAR TODOS OS DOCUMENTOS EM UM ÚNICO DATAFRAME ############\n",
    "\n",
    "diretorios = []         # Lista Vazia\n",
    "\n",
    "# LOCALIZAR OS ARQUIVOS E COMBINAR COM O CAMINHO DA PASTA\n",
    "for file in os.listdir(caminhoDaPasta):\n",
    "    fullPath = caminhoDaPasta + file\n",
    "    diretorios.append(fullPath)\n",
    "    \n",
    "# CRIAR UM DATAFRAME VAZIO\n",
    "dfVendas = pd.DataFrame()\n",
    "\n",
    "# LOOP PARA ACESSAR OS DOCUMENTOS E COMBINÁ-LOS (+/- UNION DO SQL)\n",
    "\n",
    "for path in diretorios:\n",
    "    df = pd.read_excel(path)\n",
    "    dfVendas = pd.concat([dfVendas,df])\n",
    "    \n",
    "# GERAR UM ARQUIVO CSV COM OS DADOS CONSOLIDADOS\n",
    "dfVendas.to_csv(caminhoDaPasta + 'arquivoCombinado.csv')\n",
    "\n",
    "\n",
    "\n",
    "######################## CARREGAR OS DEMAIS DATAFRAMES ###################################\n",
    "\n",
    "dfMetas = pd.read_excel('./arquivos/base-meta-new.xlsx')\n",
    "dfVendedores = pd.read_excel('./arquivos/Dimensões.xlsx',sheet_name='Vendedor')\n",
    "dfProdutos = pd.read_excel('./arquivos/Dimensões.xlsx',sheet_name='Produto')\n",
    "dfDatas = pd.read_excel('./arquivos/Dimensões.xlsx',sheet_name='Data')\n",
    "dfGrupoProduto = pd.read_excel('./arquivos/Dimensões.xlsx',sheet_name='GrupoProduto')\n",
    "dfClientes = pd.read_excel('./arquivos/Dimensões.xlsx',sheet_name='Cliente')\n",
    "\n",
    "################# TRATAMENTO DO DATAFRAME METAS ############################\n",
    "\n",
    "# FATIAMENTO DO DATAFRAME\n",
    "dfMetas = dfMetas.iloc[3:,1:4]\n",
    "\n",
    "# RENOMEAR COLUNAS\n",
    "dfMetas.columns = ['cdVendedor','data','meta']\n",
    "\n",
    "dfMetas\n",
    "\n",
    "# MESCLANDO AS TABELAS VENDAS E DATAS COM PD.MERGE\n",
    "\n",
    "df_result = pd.merge(\n",
    "                dfVendas[['DataEmissao','QtdItens','ValorUnitario']],\n",
    "                dfDatas[['Data','Ano']],\n",
    "                left_on='DataEmissao',\n",
    "                right_on='Data'\n",
    "            )\n",
    "\n",
    "# ADICIONAR A COLUNA SUBTOTAL AO DATAFRAME\n",
    "df_result['subtotal'] = df_result['QtdItens'] * df_result['ValorUnitario']\n",
    "\n",
    "# AGRUPAR OS DADOS POR ANO\n",
    "df_result = df_result[['Ano','subtotal']].groupby('Ano').sum().reset_index()\n",
    "\n",
    "# CRIAR O GRÁFICO\n",
    "sns.barplot(\n",
    "    data=df_result,\n",
    "    x = 'Ano',\n",
    "    y = 'subtotal')\n",
    "\n",
    "plt.title('Vendas por ano')\n",
    "plt.xlabel('Anos')\n",
    "plt.ylabel('Vendas')"
   ]
  }
 ],
 "metadata": {
  "kernelspec": {
   "display_name": "Python 3",
   "language": "python",
   "name": "python3"
  },
  "language_info": {
   "codemirror_mode": {
    "name": "ipython",
    "version": 3
   },
   "file_extension": ".py",
   "mimetype": "text/x-python",
   "name": "python",
   "nbconvert_exporter": "python",
   "pygments_lexer": "ipython3",
   "version": "3.11.0"
  }
 },
 "nbformat": 4,
 "nbformat_minor": 2
}
