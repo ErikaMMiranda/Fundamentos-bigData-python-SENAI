{
 "cells": [
  {
   "cell_type": "markdown",
   "metadata": {},
   "source": [
    "#### Estrutura de Decisão IF\n",
    "Exercício 01 – Crie uma variável chamada \"idade\" e atribua um valor inteiro a ela.\n",
    "Verifique se a idade é maior ou igual a 18 e imprima \"Maior de idade\" ou \"Menor de\n",
    "idade\" de acordo com a condição.\n"
   ]
  },
  {
   "cell_type": "code",
   "execution_count": 3,
   "metadata": {},
   "outputs": [
    {
     "name": "stdout",
     "output_type": "stream",
     "text": [
      "maior de idade!\n"
     ]
    }
   ],
   "source": [
    "idade = int(input(\"Digite a sua idade\"))\n",
    "\n",
    "if idade >= 18:\n",
    "    print(\"maior de idade!\")\n",
    "else:\n",
    "    print(\"menor de idade!\")"
   ]
  },
  {
   "cell_type": "markdown",
   "metadata": {},
   "source": [
    "#### Exercício 02 - Crie uma variável chamada \"número\" e atribua um valor inteiro a ela.\n",
    "Verifique se o número é positivo, negativo ou zero e imprima a mensagem correspondente."
   ]
  },
  {
   "cell_type": "code",
   "execution_count": 12,
   "metadata": {},
   "outputs": [
    {
     "name": "stdout",
     "output_type": "stream",
     "text": [
      "nulo\n"
     ]
    }
   ],
   "source": [
    "numero = int(input(\"digite aqui o seu numero\"))\n",
    "if numero > 0:\n",
    "    print(\"positivo\")\n",
    "elif numero < 0:\n",
    "     print(\"negativo\")\n",
    "else: \n",
    "    print(\"nulo\")\n"
   ]
  },
  {
   "cell_type": "markdown",
   "metadata": {},
   "source": [
    "##### Exercício 03 - Crie duas variáveis, \"nota1\" e \"nota2\", e atribua valores numéricos a elas. Verifique se a média das notas é maior ou igual a 7 e imprima \"Aprovado\" ou   \"Reprovado\" de acordo com a condição."
   ]
  },
  {
   "cell_type": "code",
   "execution_count": 2,
   "metadata": {},
   "outputs": [
    {
     "name": "stdout",
     "output_type": "stream",
     "text": [
      "reprovado\n"
     ]
    }
   ],
   "source": [
    "nota1= float(input(\"Digite a primeira nota\"))\n",
    "nota2= float(input(\"Digite a segunda nota\"))\n",
    "\n",
    "media= (nota1+nota2)/2\n",
    "if media > 7:\n",
    "    print(\"Aprovado\")\n",
    "else:\n",
    "    print(\"reprovado\")\n"
   ]
  },
  {
   "cell_type": "markdown",
   "metadata": {},
   "source": [
    "##### Exercício 04 - Crie uma variável chamada \"idade\" e atribua um valor inteiro a ela. Verifique se a idade está dentro do intervalo de 18 a 30 (inclusive) e imprima a mensagem \"Idade válida\" ou \"Idade inválida\" de acordo com a condição."
   ]
  },
  {
   "cell_type": "code",
   "execution_count": 10,
   "metadata": {},
   "outputs": [
    {
     "name": "stdout",
     "output_type": "stream",
     "text": [
      "idade valida\n"
     ]
    }
   ],
   "source": [
    "idade= int(input(\"Insira a idade\"))\n",
    "if idade >= 18 and idade  <= 30:\n",
    "    print( \"idade valida\")\n",
    "# \"and\" é uma palavra reserva para avaliar mais de uma condição ao mesmo tempo \n",
    "else:\n",
    "    print(\"idade invalida)\")"
   ]
  },
  {
   "cell_type": "markdown",
   "metadata": {},
   "source": [
    "##### Exercício 05 - Crie uma variável chamada \"numero\" e atribua um valor inteiro a ela. Verifique se o número é par ou ímpar e imprima a mensagem correspondente."
   ]
  },
  {
   "cell_type": "code",
   "execution_count": 12,
   "metadata": {},
   "outputs": [
    {
     "name": "stdout",
     "output_type": "stream",
     "text": [
      "impar\n"
     ]
    }
   ],
   "source": [
    "numero=int(input(\"digite aqui um numero\"))\n",
    "if (numero%2) == 0:\n",
    "    print(\"par\")\n",
    "else:\n",
    "    print (\"impar\")"
   ]
  },
  {
   "cell_type": "markdown",
   "metadata": {},
   "source": [
    "##### Exercício 06 - Crie uma variável chamada \"horario\" e atribua um valor inteiro representando a hora do dia (em formato 24 horas). Verifique se o horário está dentro do período da manhã (das 6h às 12h), da tarde (das 12h às 18h) ou da noite (das 18h às 23h) e imprima a mensagem correspondente."
   ]
  },
  {
   "cell_type": "code",
   "execution_count": 34,
   "metadata": {},
   "outputs": [
    {
     "name": "stdout",
     "output_type": "stream",
     "text": [
      "madrugada\n"
     ]
    }
   ],
   "source": [
    "horario = int(input(\"Digite aqui o horario, no formato igual de 24h\"))\n",
    "if horario >= 6 and horario <12:\n",
    "    print (\"Manhã\")\n",
    "elif horario >= 12 and horario <18:\n",
    "    print(\"tarde\")\n",
    "elif horario >= 18 and horario <23 :\n",
    "    print (\"noite\")\n",
    "else:\n",
    "    print(\"madrugada\")"
   ]
  },
  {
   "cell_type": "markdown",
   "metadata": {},
   "source": [
    "##### Exercício 07 - Crie uma variável chamada \"peso\" e atribua um valor numérico a ela. Verifique se o peso está dentro do intervalo de 50 a 100 (inclusive) e imprima a mensagem \"Peso válido\" ou \"Peso inválido\" de acordo com a condição"
   ]
  },
  {
   "cell_type": "code",
   "execution_count": 19,
   "metadata": {},
   "outputs": [
    {
     "name": "stdout",
     "output_type": "stream",
     "text": [
      "Peso Valido\n"
     ]
    }
   ],
   "source": [
    "peso= float(input(\"digite aqui o peso\"))\n",
    "if peso >= 50 and peso <=100:\n",
    "    print (\"Peso Valido\")\n",
    "else:\n",
    "    print(\"Peso Invalido\")"
   ]
  },
  {
   "cell_type": "markdown",
   "metadata": {},
   "source": [
    "##### Exercício 08 - Crie uma variável chamada \"numero\" e atribua um valor inteiro a ela. Verifique se o número é múltiplo de 3 e de 5 ao mesmo tempo e imprima a mensagem correspondente."
   ]
  },
  {
   "cell_type": "code",
   "execution_count": 37,
   "metadata": {},
   "outputs": [
    {
     "name": "stdout",
     "output_type": "stream",
     "text": [
      "O numero 105 é um multiplo de 3 e 5\n"
     ]
    }
   ],
   "source": [
    "numero= int(input(\"Digite aqui o numero\"))\n",
    "\n",
    "# range é uma função nativa da linguagem Python que é utilizada para gerar uma sequência numérica dentro de um intervalo determinado.\n",
    "# for: opera sobre os itens de qualquer tipo de sequência (lista ou string) na ordem que aparecem.\n",
    "\n",
    "if numero %3== 0 and numero % 5 == 0:\n",
    "    print (f\"O numero {numero} é um multiplo de 3 e 5\")\n",
    "else:\n",
    "    print (f\"O numero {numero}  não é multiplo de 3 e 5\")\n",
    "\n"
   ]
  },
  {
   "cell_type": "markdown",
   "metadata": {},
   "source": [
    "##### Exercício 09 - Crie uma variável chamada \"ano\" e atribua um valor inteiro representando um ano. Verifique se o ano é bissexto (divisível por 4, mas não por 100, exceto se for divisível por 400) e imprima a mensagem correspondente\n",
    "    "
   ]
  },
  {
   "cell_type": "code",
   "execution_count": 40,
   "metadata": {},
   "outputs": [
    {
     "name": "stdout",
     "output_type": "stream",
     "text": [
      "o ano 2000 é bissexto\n"
     ]
    }
   ],
   "source": [
    "ano= int(input(\"insira aqui o ano\"))\n",
    "if (ano%4 == 0 and ano%100!=0) or (ano%400== 0):\n",
    "    print( f\"o ano {ano} é bissexto\")\n",
    "else: \n",
    "    print(f\"ano {ano} não é bissexto\")\n"
   ]
  },
  {
   "cell_type": "markdown",
   "metadata": {},
   "source": [
    "##### Exercício 15 - Faça um programa para a leitura de duas notas parciais de um aluno. O programa deve calcular a média alcançada por aluno e apresentar:\n",
    "• A mensagem \"Aprovado\", se a média alcançada for maior ou igual a sete;\n",
    "\n",
    "• A mensagem \"Reprovado\", se a média for menor do que sete;\n",
    "\n",
    "• A mensagem \"Aprovado com Distinção\", se a média for igual a dez."
   ]
  },
  {
   "cell_type": "code",
   "execution_count": 46,
   "metadata": {},
   "outputs": [
    {
     "name": "stdout",
     "output_type": "stream",
     "text": [
      "Aprovado com Distinção\n"
     ]
    }
   ],
   "source": [
    "nota1= float(input(\"insira aqui a sua primeira nota\"))\n",
    "nota2= float(input( \"insira aqui a sua segunda nota\"))\n",
    "media= (nota1 + nota2)/2\n",
    "\n",
    "if media >= 7 and media <10:\n",
    "    print (\"Aprovado\")\n",
    "elif media < 7:\n",
    "    print(\"Reprovado\")\n",
    "elif media == 10:\n",
    "    print(\"Aprovado com Distinção\")\n"
   ]
  },
  {
   "cell_type": "markdown",
   "metadata": {},
   "source": [
    "##### Exercício 16 - Faça um Programa que leia três números e mostre o maior deles"
   ]
  },
  {
   "cell_type": "code",
   "execution_count": 53,
   "metadata": {},
   "outputs": [
    {
     "name": "stdout",
     "output_type": "stream",
     "text": [
      "coloque valores diferentes\n"
     ]
    }
   ],
   "source": [
    "num1= int(input(\"Insira aqui o primeiro numero\"))\n",
    "num2= int(input('Insira aqui o segundo numero'))\n",
    "num3= int(input(\"insira aqui o terceiro numero\"))\n",
    "\n",
    "if num1> num2 and num1> num3:\n",
    "    print (f\"esse é o maior numero {num1}\")\n",
    "elif num2 > num1 and num2 > num3:\n",
    "        print (f\"esse é o maior numero {num2}\")\n",
    "elif num3 > num1 and num3 > num2:    \n",
    "        print (f\"esse é o maior numero {num3}\")\n",
    "else:\n",
    "       print(f\"coloque valores diferentes\")"
   ]
  },
  {
   "cell_type": "markdown",
   "metadata": {},
   "source": [
    "##### Exercício 17 - Faça um Programa que leia três números e mostre o maior e o menor deles"
   ]
  },
  {
   "cell_type": "code",
   "execution_count": 63,
   "metadata": {},
   "outputs": [
    {
     "ename": "SyntaxError",
     "evalue": "invalid syntax (3565204849.py, line 7)",
     "output_type": "error",
     "traceback": [
      "\u001b[1;36m  Cell \u001b[1;32mIn[63], line 7\u001b[1;36m\u001b[0m\n\u001b[1;33m    elif num1> num2 and num1> num3:\u001b[0m\n\u001b[1;37m    ^\u001b[0m\n\u001b[1;31mSyntaxError\u001b[0m\u001b[1;31m:\u001b[0m invalid syntax\n"
     ]
    }
   ],
   "source": [
    "num1= int(input(\"Insira aqui o primeiro numero\"))\n",
    "num2= int(input('Insira aqui o segundo numero'))\n",
    "num3= int(input(\"insira aqui o terceiro numero\"))\n",
    "\n",
    "if num1< num2 and num1< num3:\n",
    "    print (f\"esse é o maior numero {num1}\")\n",
    "elif num2 > num1 and num2 > num3:\n",
    "        print (f\"esse é o maior numero {num2}\")\n",
    "elif num3 > num1 and num3 > num2:    \n",
    "        print (f\"esse é o maior numero {num3}\")\n",
    "else:\n",
    "       print(f\"coloque valores diferentes\")\n"
   ]
  },
  {
   "cell_type": "markdown",
   "metadata": {},
   "source": []
  }
 ],
 "metadata": {
  "kernelspec": {
   "display_name": "Python 3",
   "language": "python",
   "name": "python3"
  },
  "language_info": {
   "codemirror_mode": {
    "name": "ipython",
    "version": 3
   },
   "file_extension": ".py",
   "mimetype": "text/x-python",
   "name": "python",
   "nbconvert_exporter": "python",
   "pygments_lexer": "ipython3",
   "version": "3.11.0"
  }
 },
 "nbformat": 4,
 "nbformat_minor": 2
}
