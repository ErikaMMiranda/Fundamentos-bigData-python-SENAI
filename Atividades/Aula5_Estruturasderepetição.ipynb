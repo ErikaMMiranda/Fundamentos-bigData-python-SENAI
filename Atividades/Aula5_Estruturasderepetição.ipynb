{
 "cells": [
  {
   "cell_type": "markdown",
   "metadata": {},
   "source": [
    "## Loop FOR\n",
    "A estrutura de repetição for pode atuar sobre itens de qualquer tipo de sequência (lista ou string) na ordem em que aparecem. "
   ]
  },
  {
   "cell_type": "code",
   "execution_count": 2,
   "metadata": {},
   "outputs": [
    {
     "name": "stdout",
     "output_type": "stream",
     "text": [
      "abacaxi\n",
      "abacate\n",
      "laranja\n"
     ]
    }
   ],
   "source": [
    "# For Simples\n",
    "frutas= ['abacaxi','abacate','laranja']\n",
    "\n",
    "for fruta in frutas:\n",
    "    print(fruta)"
   ]
  },
  {
   "cell_type": "code",
   "execution_count": 4,
   "metadata": {},
   "outputs": [
    {
     "name": "stdout",
     "output_type": "stream",
     "text": [
      "abacaxi\n",
      "abacate\n"
     ]
    }
   ],
   "source": [
    "#For condicional ( For + IF)\n",
    "frutas= ['abacaxi','abacate','laranja']\n",
    "\n",
    "for fruta in frutas:\n",
    "    if fruta.startswith ('a'):\n",
    "        print(fruta)\n"
   ]
  },
  {
   "cell_type": "code",
   "execution_count": 9,
   "metadata": {},
   "outputs": [
    {
     "name": "stdout",
     "output_type": "stream",
     "text": [
      "1\n",
      "3\n",
      "6\n",
      "10\n",
      "15\n",
      "21\n",
      "28\n",
      "36\n",
      "45\n",
      "55\n"
     ]
    }
   ],
   "source": [
    "#For acumulador\n",
    "ListaNumeros= [1,2,3,4,5,6,7,8,9,10]\n",
    "\n",
    "soma=0 #variavel acumuladora\n",
    "\n",
    "for numero in ListaNumeros:\n",
    "    soma = soma + numero\n",
    "\n",
    "    print(soma)"
   ]
  },
  {
   "cell_type": "markdown",
   "metadata": {},
   "source": [
    "### Loop While "
   ]
  },
  {
   "cell_type": "code",
   "execution_count": null,
   "metadata": {},
   "outputs": [],
   "source": []
  }
 ],
 "metadata": {
  "kernelspec": {
   "display_name": "Python 3",
   "language": "python",
   "name": "python3"
  },
  "language_info": {
   "codemirror_mode": {
    "name": "ipython",
    "version": 3
   },
   "file_extension": ".py",
   "mimetype": "text/x-python",
   "name": "python",
   "nbconvert_exporter": "python",
   "pygments_lexer": "ipython3",
   "version": "3.11.0"
  }
 },
 "nbformat": 4,
 "nbformat_minor": 2
}
