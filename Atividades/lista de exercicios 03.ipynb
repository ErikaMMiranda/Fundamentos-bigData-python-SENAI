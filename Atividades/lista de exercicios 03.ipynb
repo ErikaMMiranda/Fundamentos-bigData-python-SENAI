{
 "cells": [
  {
   "cell_type": "code",
   "execution_count": 7,
   "metadata": {},
   "outputs": [
    {
     "name": "stdout",
     "output_type": "stream",
     "text": [
      "1\n",
      "2\n",
      "3\n",
      "4\n",
      "5\n",
      "6\n",
      "7\n",
      "8\n",
      "9\n",
      "10\n",
      "11\n",
      "12\n",
      "13\n",
      "14\n",
      "15\n",
      "16\n",
      "17\n",
      "18\n",
      "19\n",
      "20\n"
     ]
    }
   ],
   "source": [
    "# Exercício 06 - Faça um programa que imprima na tela os números de 1 a 20, um abaixo do outro. Depois modifique o programa para que ele mostre os números um ao lado do outro.\n",
    "# função range onde podemos especificar os valores ( menor valor, maior valor)\n",
    "\n",
    "lista_numeros= range(1,21)\n",
    "\n",
    "for numero in lista_numeros :\n",
    "    print(numero)\n",
    "   "
   ]
  },
  {
   "cell_type": "code",
   "execution_count": 17,
   "metadata": {},
   "outputs": [
    {
     "name": "stdout",
     "output_type": "stream",
     "text": [
      "[1, 2, 3, 4, 5, 6, 7, 8, 9, 10, 11, 12, 13, 14, 15, 16, 17, 18, 19, 20]\n"
     ]
    }
   ],
   "source": [
    "lista_numeros= range(1,21)\n",
    "# criar uma lista vazia\n",
    "lista = []\n",
    "\n",
    "for numero in lista_numeros :\n",
    "#adicionar novos elementos a lista : lista.append(x)\n",
    "    lista.append(numero)\n",
    "print(lista)\n"
   ]
  },
  {
   "cell_type": "code",
   "execution_count": 28,
   "metadata": {},
   "outputs": [
    {
     "data": {
      "text/plain": [
       "1000"
      ]
     },
     "execution_count": 28,
     "metadata": {},
     "output_type": "execute_result"
    }
   ],
   "source": [
    "## Exercício 07 - Faça um programa que leia 5 números e informe o maior número.\n",
    "\n",
    "#salvar os valores em uma lista vazia\n",
    "\n",
    "numeros=[]\n",
    "\n",
    "listaControle = range(1,6)\n",
    "\n",
    "for i in listaControle:\n",
    "\n",
    "    num= int(input(\"digite aqui o numero\"))\n",
    "    numeros.append(num)\n",
    "max(numeros)\n",
    "#função 'max' é para mostrar o maior valor"
   ]
  },
  {
   "cell_type": "code",
   "execution_count": 42,
   "metadata": {},
   "outputs": [
    {
     "name": "stdout",
     "output_type": "stream",
     "text": [
      "A soma dos valores da lista é: 5\n",
      " A média dos valores informados é: 1.0\n"
     ]
    }
   ],
   "source": [
    "# Exercício 08 - Faça um programa que leia 5 números e informe a soma e a média dos números.\n",
    "\n",
    "\n",
    "listaControle = range(1,6)\n",
    "numeros=[]\n",
    "\n",
    "for i in range(1,6):\n",
    "    num= int(input(\"digite aqui o numero\"))\n",
    "    numeros.append(num)\n",
    "    #soma\n",
    "soma = sum(numeros)\n",
    "#quantidade de elementos\n",
    "qtde = len(numeros)\n",
    "\n",
    "# media\n",
    "media = soma/qtde\n",
    "\n",
    "print(\"A soma dos valores da lista é:\", soma)\n",
    "print(\" A média dos valores informados é:\", media)\n",
    "\n"
   ]
  },
  {
   "cell_type": "code",
   "execution_count": 54,
   "metadata": {},
   "outputs": [
    {
     "name": "stdout",
     "output_type": "stream",
     "text": [
      "1\n",
      "3\n",
      "5\n",
      "7\n",
      "9\n",
      "11\n",
      "13\n",
      "15\n",
      "17\n",
      "19\n",
      "21\n",
      "23\n",
      "25\n",
      "27\n",
      "29\n",
      "31\n",
      "33\n",
      "35\n",
      "37\n",
      "39\n",
      "41\n",
      "43\n",
      "45\n",
      "47\n",
      "49\n"
     ]
    }
   ],
   "source": [
    "# Exercício 09 - Faça um programa que imprima na tela apenas os números ímpares entre 1 e 50.\n",
    "\n",
    "numeros = range(1,51)\n",
    "for w in numeros:\n",
    "\n",
    "        if w % 2 != 0: # Se o resto for diferente de 0, o numero é impar   \n",
    "         print(w)\n",
    "\n"
   ]
  },
  {
   "cell_type": "code",
   "execution_count": 60,
   "metadata": {},
   "outputs": [
    {
     "name": "stdout",
     "output_type": "stream",
     "text": [
      "1\n",
      "2\n",
      "3\n",
      "4\n",
      "5\n",
      "6\n",
      "7\n",
      "8\n",
      "9\n",
      "10\n"
     ]
    }
   ],
   "source": [
    "# Exercício 10 - Faça um programa que receba dois números inteiros e gere os números inteiros que estão no intervalo compreendido por eles.\n",
    "\n",
    "\n",
    "numInferior= int(input(\"Informe o primeiro numero\"))\n",
    "numSuperior=int(input(\"informe o segundo numero\"))\n",
    "for x in range(numInferior,numSuperior + 1):\n",
    "    print(x)\n"
   ]
  },
  {
   "cell_type": "code",
   "execution_count": 67,
   "metadata": {},
   "outputs": [
    {
     "name": "stdout",
     "output_type": "stream",
     "text": [
      "5\n",
      "11\n",
      "18\n",
      "26\n",
      "35\n",
      "45\n"
     ]
    }
   ],
   "source": [
    "# Exercício 10 - Altere o programa anterior para mostrar no final a soma dos números.\n",
    "\n",
    "\n",
    "numInferior= int(input(\"Informe o primeiro numero\"))\n",
    "numSuperior=int(input(\"informe o segundo numero\"))\n",
    "soma = 0\n",
    "for x in range(numInferior,numSuperior + 1):\n",
    "    soma += x\n",
    "    print (soma)\n"
   ]
  },
  {
   "cell_type": "code",
   "execution_count": 71,
   "metadata": {},
   "outputs": [
    {
     "name": "stdout",
     "output_type": "stream",
     "text": [
      "11 X 1 = 11\n",
      "11 X 2 = 22\n",
      "11 X 3 = 33\n",
      "11 X 4 = 44\n",
      "11 X 5 = 55\n",
      "11 X 6 = 66\n",
      "11 X 7 = 77\n",
      "11 X 8 = 88\n",
      "11 X 9 = 99\n",
      "11 X 10 = 110\n"
     ]
    }
   ],
   "source": [
    "# Exercício 12 - Desenvolva um gerador de tabuada, capaz de gerar a tabuada de qualquer número inteiro entre 1 a 10. O usuário deve informar de qual numero ele deseja ver a tabuada. A saída deve ser conforme o exemplo abaixo:\n",
    "num= int(input(\"Informe o numero para gerarmos sua tabuada\"))\n",
    "for fator in range(1,11):\n",
    "\n",
    "    resultado = num * fator\n",
    "    print(f'{num} X {fator} = {resultado}')\n"
   ]
  },
  {
   "cell_type": "markdown",
   "metadata": {},
   "source": [
    "### Loop While "
   ]
  },
  {
   "cell_type": "code",
   "execution_count": 73,
   "metadata": {},
   "outputs": [
    {
     "name": "stdout",
     "output_type": "stream",
     "text": [
      "1\n",
      "2\n",
      "3\n",
      "4\n",
      "5\n",
      "6\n",
      "7\n",
      "8\n",
      "9\n",
      "10\n"
     ]
    }
   ],
   "source": [
    "i = 1 # Variavel de controle - que evita o looping infinito\n",
    "soma = 0 # variavel acumuladora\n",
    "while i <= 10:\n",
    "    soma+= 1\n",
    "    i += 1\n",
    "    print(soma)"
   ]
  },
  {
   "cell_type": "code",
   "execution_count": null,
   "metadata": {},
   "outputs": [],
   "source": []
  }
 ],
 "metadata": {
  "kernelspec": {
   "display_name": "Python 3",
   "language": "python",
   "name": "python3"
  },
  "language_info": {
   "codemirror_mode": {
    "name": "ipython",
    "version": 3
   },
   "file_extension": ".py",
   "mimetype": "text/x-python",
   "name": "python",
   "nbconvert_exporter": "python",
   "pygments_lexer": "ipython3",
   "version": "3.11.0"
  }
 },
 "nbformat": 4,
 "nbformat_minor": 2
}
