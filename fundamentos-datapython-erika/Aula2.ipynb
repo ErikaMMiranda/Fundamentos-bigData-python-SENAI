{
 "cells": [
  {
   "cell_type": "markdown",
   "metadata": {},
   "source": [
    "#### Palavras reservadas"
   ]
  },
  {
   "cell_type": "code",
   "execution_count": 1,
   "metadata": {},
   "outputs": [
    {
     "name": "stdout",
     "output_type": "stream",
     "text": [
      "['False', 'None', 'True', 'and', 'as', 'assert', 'async', 'await', 'break', 'class', 'continue', 'def', 'del', 'elif', 'else', 'except', 'finally', 'for', 'from', 'global', 'if', 'import', 'in', 'is', 'lambda', 'nonlocal', 'not', 'or', 'pass', 'raise', 'return', 'try', 'while', 'with', 'yield']\n"
     ]
    }
   ],
   "source": [
    "import keyword\n",
    "print(keyword.kwlist)"
   ]
  },
  {
   "cell_type": "markdown",
   "metadata": {},
   "source": [
    "##### Exercício 02 – Crie um programa para receber dois valores e em seguida, exiba o valor da diferença entre eles."
   ]
  },
  {
   "cell_type": "code",
   "execution_count": 2,
   "metadata": {},
   "outputs": [
    {
     "name": "stdout",
     "output_type": "stream",
     "text": [
      "12\n"
     ]
    }
   ],
   "source": [
    "num1= 17\n",
    "num2= 5\n",
    "subtração= num1 - num2\n",
    "print(subtração)"
   ]
  },
  {
   "cell_type": "markdown",
   "metadata": {},
   "source": [
    "##### Exercício 03 – Crie um programa para receber dois valores e em seguida, exiba o produto entre eles.\n"
   ]
  },
  {
   "cell_type": "code",
   "execution_count": 12,
   "metadata": {},
   "outputs": [
    {
     "name": "stdout",
     "output_type": "stream",
     "text": [
      "<class 'str'>\n",
      "<class 'str'>\n",
      "<class 'float'>\n",
      "<class 'float'>\n"
     ]
    }
   ],
   "source": [
    "num1= input ('digite o primeiro valor')\n",
    "num2= input ('digite o segundo valor')\n",
    "\n",
    "\n",
    "# o comando print apresenta os resultados do console. \n",
    "# Inserindo dados de entrada com o comando INPUT\n",
    "# verificando o tipo de dado\n",
    "print(type(num1))\n",
    "print(type(num2))\n",
    "# convertendo os valores em decimais\n",
    "num1 = float(num1)\n",
    "num2 = float(num2)\n",
    "print(type(num1))\n",
    "print(type(num2))"
   ]
  },
  {
   "cell_type": "code",
   "execution_count": 13,
   "metadata": {},
   "outputs": [
    {
     "name": "stdout",
     "output_type": "stream",
     "text": [
      " o valor do produto é 30.0\n"
     ]
    }
   ],
   "source": [
    "num1 = input('digite aqui o primeiro valor')\n",
    "num2 = input ('digite aqui o segundo valor')\n",
    "num1 = float(num1)\n",
    "num2 = float(num2)\n",
    "produto = num1 * num2\n",
    "print (f\" o valor do produto é {produto}\")"
   ]
  },
  {
   "cell_type": "markdown",
   "metadata": {},
   "source": [
    "#### Exercício 04 - Crie um programa para receber dois valores e em seguida, exiba o quociente entre eles."
   ]
  },
  {
   "cell_type": "code",
   "execution_count": 17,
   "metadata": {},
   "outputs": [
    {
     "name": "stdout",
     "output_type": "stream",
     "text": [
      "o quociente entre esses valores é igual a 10.0\n"
     ]
    }
   ],
   "source": [
    "num1 = input ('coloque aqui o primeiro valor')\n",
    "num2 = input (' coloque aqui o segundo valor')\n",
    "num1 = float (num1)\n",
    "num2 = float (num2)\n",
    "quociente = num1 / num2\n",
    "print(\"o quociente entre esses valores é igual a\",  quociente)\n",
    "# podemos usar virgula ao inves de \"f\""
   ]
  },
  {
   "cell_type": "markdown",
   "metadata": {},
   "source": [
    "#### Exercício 16 - Faça um Programa que peça 2 números inteiros e um número real. Calcule e mostre:\n",
    "a) o produto do dobro do primeiro com metade do segundo.\n",
    "b) a soma do triplo do primeiro com o terceiro.\n",
    "c) o terceiro elevado ao cubo."
   ]
  },
  {
   "cell_type": "markdown",
   "metadata": {},
   "source": []
  },
  {
   "cell_type": "code",
   "execution_count": 22,
   "metadata": {},
   "outputs": [
    {
     "name": "stdout",
     "output_type": "stream",
     "text": [
      " A resposta para a alternativa A é: 2.0\n",
      " A resposta para a alternativa B é: 6.0\n",
      " A resposta para a alternativa C é: 9.0\n"
     ]
    }
   ],
   "source": [
    "# recebendo valores e convertendo\n",
    "num1 = int(input(\"digite o primeiro valor\"))\n",
    "num2 = int (input(\"digite o segundo valor\"))\n",
    "num3 = float (input(\"digite o terceiro valor\"))\n",
    "# o produto do dobro do primeiro com metade do segundo\n",
    "questaoA = (num1 * 2 )* (num2 / 2)\n",
    "print(\" A resposta para a alternativa A é:\", questaoA)\n",
    "questaoB = (3 * num1) + (num3)\n",
    "print(\" A resposta para a alternativa B é:\", questaoB)\n",
    "questaoC = (num3**2)\n",
    "print(\" A resposta para a alternativa C é:\", questaoC)\n"
   ]
  },
  {
   "cell_type": "markdown",
   "metadata": {},
   "source": []
  },
  {
   "cell_type": "markdown",
   "metadata": {},
   "source": [
    "#### Exercício 17 - João Papo-de-Pescador, homem de bem, comprou um microcomputador para controlar o rendimento diário de seu trabalho. Toda vez que ele traz um peso de peixes maior que o estabelecido pelo regulamento de pesca do estado de São Paulo (50 quilos) deve pagar uma multa de R$ 4,00 por quilo excedente. João precisa que você faça um programa que leia a variável peso (peso de peixes) e calcule o excesso.  Gravar na variável excesso a quantidade de quilos além do limite e na variável multa o valor da multa que João deverá pagar. Imprima os dados do programa com as mensagens adequadas."
   ]
  },
  {
   "cell_type": "code",
   "execution_count": 24,
   "metadata": {},
   "outputs": [
    {
     "name": "stdout",
     "output_type": "stream",
     "text": [
      "Seu excedente foi de 0\n",
      "O valor da multa será de R$ 0\n"
     ]
    }
   ],
   "source": [
    "pesodepeixes = int(input(\"digite aqui o peso de peixes\"))\n",
    "excesso = pesodepeixes - 50\n",
    "print(\"Seu excedente foi de\", excesso)\n",
    "multa = excesso * 4\n",
    "print(\"O valor da multa será de R$\", multa)"
   ]
  },
  {
   "cell_type": "markdown",
   "metadata": {},
   "source": [
    "##### Exercício 18 - Faça um Programa que pergunte quanto você ganha por hora e o número de horas trabalhadas no mês. Calcule e mostre o total do seu salário no referido mês, sabendo-se que são descontados 11% para o Imposto de Renda, 8% para o INSS e 5% para o sindicato, faça um programa que nos dê:a) salário bruto.b) quanto pagou ao INSS.c) quanto pagou ao sindicato.d) o salário líquido.e) calcule os descontos e o salário líquido, conforme a tabela abaixo:"
   ]
  },
  {
   "cell_type": "code",
   "execution_count": 30,
   "metadata": {},
   "outputs": [
    {
     "name": "stdout",
     "output_type": "stream",
     "text": [
      "O salario bruto será de R$ 2200\n",
      "O valor de contribuição ao INSS será de R$ 176.0\n",
      "O valor pago ao sindicato será de R$ 110.0\n",
      "O salário liquido será de R$ 1672.0\n",
      "+ Salário Bruto:R$2200\n",
      "- IR (11%) : R$242.0\n",
      "- INSS (8%) : R$176.0\n",
      "- Sindicato ( 5%) : R$110.0\n",
      "= Salário Liquido : R$1672.0\n"
     ]
    }
   ],
   "source": [
    "ganho_hora=int(input(\"digite aqui o seu ganho por hora\"))\n",
    "horastrab= int(input(\"digite aqui o numero de horas trabalhas por mes\"))\n",
    "salario_bruto= ganho_hora * horastrab\n",
    "ir= salario_bruto * 0.11\n",
    "inss= salario_bruto * 0.08\n",
    "sindicato = salario_bruto * 0.05\n",
    "salario_liquido = (salario_bruto - ir)-(inss)-(sindicato)\n",
    "print(\"O salario bruto será de R$\", salario_bruto)\n",
    "print(\"O valor de contribuição ao INSS será de R$\", inss)\n",
    "print(\"O valor pago ao sindicato será de R$\",sindicato )\n",
    "print(\"O salário liquido será de R$\", salario_liquido)\n",
    "\n",
    "#correção\n",
    "salario_bruto = ganho_hora * horastrab\n",
    "# Aliquotas de desconto\n",
    "per_ir= 0.11\n",
    "per_inss= 0.08\n",
    "per_sindicato= 0.05\n",
    "\n",
    "# Calcular o valor dos descontos\n",
    "\n",
    "valor_ir = salario_bruto * per_ir\n",
    "valor_inss = salario_bruto * per_inss\n",
    "valor_sindicato = salario_bruto * per_sindicato\n",
    "\n",
    "# calcular o salario liquido\n",
    "salario_liquido = salario_bruto - valor_inss - valor_ir - valor_sindicato\n",
    "# Exibir resultados\n",
    "print(f\"+ Salário Bruto:R${salario_bruto}\")\n",
    "print(f\"- IR (11%) : R${valor_ir}\")\n",
    "print(f\"- INSS (8%) : R${valor_inss}\")\n",
    "print(f\"- Sindicato ( 5%) : R${valor_sindicato}\")\n",
    "print(f\"= Salário Liquido : R${salario_liquido}\")\n",
    "      \n",
    "\n"
   ]
  },
  {
   "cell_type": "markdown",
   "metadata": {},
   "source": [
    "#### Exercício 19 - Faça um programa para uma loja de tintas. O programa deverá pedir o tamanho em metros quadrados da área a ser pintada. Considere que a cobertura da tinta é de 1 litro para cada 3 metros quadrados e que a inta é vendida em latas de 18 litros, que custam R$ 80,00. Informe ao usuário a quantidades de latas de tinta a serem compradas e o preço total."
   ]
  },
  {
   "cell_type": "code",
   "execution_count": 38,
   "metadata": {},
   "outputs": [
    {
     "name": "stdout",
     "output_type": "stream",
     "text": [
      "Para pintar a área de 54.0 m²\n",
      "Será(ão) necessaria(s) 1.0 lata(s), no valor total de R$80\n"
     ]
    }
   ],
   "source": [
    "#importar a biblioteca math para utilizar a função ceil\n",
    "import math\n",
    "area= float(input(\"insira aqui o tamanho da area em metros quadrados\"))\n",
    "#calculando a quantidade de latas\n",
    "litroslata= 18\n",
    "areapintadalata= litroslata * 3\n",
    "qtdelatas = round (area / areapintadalata,2) # round é para arrendodar o valor em casas decimais\n",
    "# o ideal era aplicar numa estrutura condicional para verificar se a qtde de latas é menor que 1\n",
    "\n",
    "valorlata = 80 \n",
    "custototal = round(qtdelatas * valorlata)\n",
    "# round é para arrendodar o valor em casas decimais\n",
    "\n",
    "print(f\"Para pintar a área de {area} m²\")\n",
    "print(f\"Será(ão) necessaria(s) {qtdelatas} lata(s), no valor total de R${custototal}\")"
   ]
  },
  {
   "cell_type": "code",
   "execution_count": null,
   "metadata": {},
   "outputs": [],
   "source": []
  }
 ],
 "metadata": {
  "kernelspec": {
   "display_name": "Python 3",
   "language": "python",
   "name": "python3"
  },
  "language_info": {
   "codemirror_mode": {
    "name": "ipython",
    "version": 3
   },
   "file_extension": ".py",
   "mimetype": "text/x-python",
   "name": "python",
   "nbconvert_exporter": "python",
   "pygments_lexer": "ipython3",
   "version": "3.11.0"
  }
 },
 "nbformat": 4,
 "nbformat_minor": 2
}
