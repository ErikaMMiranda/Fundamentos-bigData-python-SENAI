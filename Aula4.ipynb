{
 "cells": [
  {
   "cell_type": "markdown",
   "metadata": {},
   "source": [
    "#### Listas"
   ]
  },
  {
   "cell_type": "code",
   "execution_count": 2,
   "metadata": {},
   "outputs": [],
   "source": [
    "alunos = ['Ana','Amanda','Bruno','João']\n",
    "notas = [10,9,8,7]"
   ]
  },
  {
   "cell_type": "code",
   "execution_count": 3,
   "metadata": {},
   "outputs": [
    {
     "data": {
      "text/plain": [
       "8"
      ]
     },
     "execution_count": 3,
     "metadata": {},
     "output_type": "execute_result"
    }
   ],
   "source": [
    "# Exibir o primeiro nome da lista alunos\n",
    "alunos[0]\n",
    "\n",
    "#Exibir a terceira nota da lista notas\n",
    "notas [2]"
   ]
  },
  {
   "cell_type": "code",
   "execution_count": 5,
   "metadata": {},
   "outputs": [
    {
     "data": {
      "text/plain": [
       "['Amanda', 'Bruno']"
      ]
     },
     "execution_count": 5,
     "metadata": {},
     "output_type": "execute_result"
    }
   ],
   "source": [
    "# Listas (list) – Acessando itens\n",
    "\n",
    "\n",
    "# Selecionar uma fatia dos dados ( de Amanda e Bruno)\n",
    "# colocar o nome da lista [posição_incial : posição_final +1]\n",
    "alunos[1:3]"
   ]
  },
  {
   "cell_type": "code",
   "execution_count": 6,
   "metadata": {},
   "outputs": [
    {
     "data": {
      "text/plain": [
       "['Bruno', 'João']"
      ]
     },
     "execution_count": 6,
     "metadata": {},
     "output_type": "execute_result"
    }
   ],
   "source": [
    "#Selecionar apenas os nomes Bruno  e João\n",
    "alunos[2:]"
   ]
  },
  {
   "cell_type": "code",
   "execution_count": 9,
   "metadata": {},
   "outputs": [
    {
     "data": {
      "text/plain": [
       "int"
      ]
     },
     "execution_count": 9,
     "metadata": {},
     "output_type": "execute_result"
    }
   ],
   "source": [
    "#para identificar o tipo de dado\n",
    "type(notas)"
   ]
  },
  {
   "cell_type": "code",
   "execution_count": 8,
   "metadata": {},
   "outputs": [
    {
     "data": {
      "text/plain": [
       "4"
      ]
     },
     "execution_count": 8,
     "metadata": {},
     "output_type": "execute_result"
    }
   ],
   "source": [
    "#para identificar  a quantidade de elemento\n",
    "len(notas)"
   ]
  },
  {
   "cell_type": "code",
   "execution_count": null,
   "metadata": {},
   "outputs": [],
   "source": [
    "# lista - conversao para string\n",
    "\n",
    "# para converter uma lista em string, utilizaremos o comando JOIN\n",
    "#é preciso definir o separador dos elemento, por exemplo \"virgula\".join(lista)\n",
    "# para contrario basta usar .split(',')\n"
   ]
  },
  {
   "cell_type": "code",
   "execution_count": 10,
   "metadata": {},
   "outputs": [
    {
     "name": "stdout",
     "output_type": "stream",
     "text": [
      "<class 'tuple'>\n",
      "<class 'tuple'>\n"
     ]
    }
   ],
   "source": [
    "#criando uma Tupla\n",
    "\n",
    "valores=(90,79,54,32,21)\n",
    "pontos=(100,94.05,86.08,62)\n",
    "\n",
    "print(type(valores))\n",
    "print(type(pontos))"
   ]
  },
  {
   "cell_type": "code",
   "execution_count": 11,
   "metadata": {},
   "outputs": [
    {
     "ename": "TypeError",
     "evalue": "'tuple' object does not support item assignment",
     "output_type": "error",
     "traceback": [
      "\u001b[1;31m---------------------------------------------------------------------------\u001b[0m",
      "\u001b[1;31mTypeError\u001b[0m                                 Traceback (most recent call last)",
      "\u001b[1;32mc:\\Users\\FIC\\Documents\\fundamentos-datapython-erika\\Aula4.ipynb Cell 10\u001b[0m line \u001b[0;36m1\n\u001b[1;32m----> <a href='vscode-notebook-cell:/c%3A/Users/FIC/Documents/fundamentos-datapython-erika/Aula4.ipynb#X16sZmlsZQ%3D%3D?line=0'>1</a>\u001b[0m valores[\u001b[39m0\u001b[39;49m]\u001b[39m=\u001b[39m\u001b[39m30\u001b[39m\n",
      "\u001b[1;31mTypeError\u001b[0m: 'tuple' object does not support item assignment"
     ]
    }
   ],
   "source": [
    "valores[0]=30"
   ]
  },
  {
   "cell_type": "markdown",
   "metadata": {},
   "source": [
    "#### Tuplas (tuple) - Outros exemplos\n"
   ]
  },
  {
   "cell_type": "code",
   "execution_count": 14,
   "metadata": {},
   "outputs": [
    {
     "name": "stdout",
     "output_type": "stream",
     "text": [
      "[10, 2]\n",
      "Não é possivel modificar uma tupla\n"
     ]
    }
   ],
   "source": [
    "my_list= [1,2] #criando uma lista\n",
    "my_tuple = (1,2) # criando uma tupla\n",
    "# Alterando o elemento de posição 1 da lista\n",
    "# Listas permitem a sua alteração \n",
    "my_list[0] = 10\n",
    "print(my_list)\n",
    "\n",
    "# Alterar um elemento de uma tupla\n",
    "try:\n",
    "    my_tuple[1]=3\n",
    "except TypeError:\n",
    "    print(\"Não é possivel modificar uma tupla\")\n",
    "\n",
    "    # a tupla é utilizada para criar funções ou parametros fixos\n",
    "    "
   ]
  },
  {
   "cell_type": "markdown",
   "metadata": {},
   "source": [
    "criando uma função com tuplas "
   ]
  },
  {
   "cell_type": "code",
   "execution_count": 15,
   "metadata": {},
   "outputs": [],
   "source": [
    "def sum_and_product ( x, y) :\n",
    "    return(x+y), (x*y)"
   ]
  },
  {
   "cell_type": "code",
   "execution_count": 16,
   "metadata": {},
   "outputs": [
    {
     "data": {
      "text/plain": [
       "(15, 50)"
      ]
     },
     "execution_count": 16,
     "metadata": {},
     "output_type": "execute_result"
    }
   ],
   "source": [
    "sum_and_product(10,5)"
   ]
  },
  {
   "cell_type": "markdown",
   "metadata": {},
   "source": []
  },
  {
   "cell_type": "markdown",
   "metadata": {},
   "source": [
    "Dicionários (dict)\n",
    "\n",
    "Dict é um tipo de dado muito flexível do Python.\n",
    "Eles são utilizados para agrupar elementos através da estrutura de chave e valor,\n",
    "onde a chave é o primeiro elemento seguido por dois pontos e pelo valor.\n",
    "Vamos ver alguns exemplos:"
   ]
  },
  {
   "cell_type": "code",
   "execution_count": 17,
   "metadata": {},
   "outputs": [
    {
     "name": "stdout",
     "output_type": "stream",
     "text": [
      "<class 'dict'>\n",
      "<class 'dict'>\n"
     ]
    }
   ],
   "source": [
    "altura = {\n",
    "    'Amanda': 1.65,\n",
    "    'Ana':1.60,\n",
    "    'João':1.50\n",
    "}\n",
    "peso= {\n",
    "    'Amanda':60,\n",
    "    'Ana':58,\n",
    "    'João':100    \n",
    "}\n",
    "\n",
    "print(type(altura))\n",
    "print(type(peso))"
   ]
  },
  {
   "cell_type": "code",
   "execution_count": 18,
   "metadata": {},
   "outputs": [
    {
     "name": "stdout",
     "output_type": "stream",
     "text": [
      "1.6\n",
      "58\n"
     ]
    }
   ],
   "source": [
    "# Acessar informações do dicionario\n",
    "print(altura['Ana'])\n",
    "print(peso['Ana'])\n"
   ]
  },
  {
   "cell_type": "code",
   "execution_count": null,
   "metadata": {},
   "outputs": [],
   "source": []
  }
 ],
 "metadata": {
  "kernelspec": {
   "display_name": "Python 3",
   "language": "python",
   "name": "python3"
  },
  "language_info": {
   "codemirror_mode": {
    "name": "ipython",
    "version": 3
   },
   "file_extension": ".py",
   "mimetype": "text/x-python",
   "name": "python",
   "nbconvert_exporter": "python",
   "pygments_lexer": "ipython3",
   "version": "3.11.0"
  }
 },
 "nbformat": 4,
 "nbformat_minor": 2
}
