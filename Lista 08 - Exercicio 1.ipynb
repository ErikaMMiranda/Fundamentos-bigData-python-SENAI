{
 "cells": [
  {
   "cell_type": "markdown",
   "metadata": {},
   "source": [
    "#### Lista 08 - Exercicio 1"
   ]
  },
  {
   "cell_type": "code",
   "execution_count": 7,
   "metadata": {},
   "outputs": [
    {
     "name": "stdout",
     "output_type": "stream",
     "text": [
      "Dados de X para treinamento 287\n",
      "Dados de Y para treinamento 287\n",
      "Dados de X para teste 155\n",
      "Dados de y para teste 155\n"
     ]
    }
   ],
   "source": [
    "\n",
    "# Importar as bibliotecas\n",
    "from sklearn.datasets import load_diabetes\n",
    "from sklearn.model_selection import train_test_split\n",
    "\n",
    "# Separar os dados em X e y\n",
    "\n",
    "diabetes = load_diabetes(return_X_y=True)\n",
    "X, y = diabetes\n",
    "\n",
    "# Dividir a amostra\n",
    "X_train, X_test, y_train, y_test = train_test_split(X,y, test_size=0.35, random_state= 42) # random_state ele sempre pegara os mesmos argumentos \n",
    "\n",
    "# Tamanho dos dados (Amostras) de treino \n",
    "print('Dados de X para treinamento',len(X_train))\n",
    "print('Dados de Y para treinamento',len(y_train))\n",
    "\n",
    "#Tamanho dos dados(Amostras) para teste\n",
    "\n",
    "print('Dados de X para teste', len(X_test))\n",
    "print('Dados de y para teste', len(y_test))"
   ]
  },
  {
   "cell_type": "code",
   "execution_count": null,
   "metadata": {},
   "outputs": [],
   "source": []
  }
 ],
 "metadata": {
  "kernelspec": {
   "display_name": "Python 3",
   "language": "python",
   "name": "python3"
  },
  "language_info": {
   "codemirror_mode": {
    "name": "ipython",
    "version": 3
   },
   "file_extension": ".py",
   "mimetype": "text/x-python",
   "name": "python",
   "nbconvert_exporter": "python",
   "pygments_lexer": "ipython3",
   "version": "3.11.0"
  }
 },
 "nbformat": 4,
 "nbformat_minor": 2
}
