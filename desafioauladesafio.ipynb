{
 "cells": [
  {
   "cell_type": "markdown",
   "metadata": {},
   "source": [
    "### Primeiros passos \n",
    "1- carregar as bibliotecas \n",
    "2- carregar o arquivo do excel - vendas \n",
    "3 - carregar o arquivo do excel - metas\n",
    "\n",
    "3- fazer uma analise do excel \n",
    "\n",
    "(consultar o stack overflow/gpt/documentações)"
   ]
  },
  {
   "cell_type": "code",
   "execution_count": 40,
   "metadata": {},
   "outputs": [],
   "source": [
    "import pandas as pd # carregar e tratar arquivos\n",
    "import numpy as np \n",
    "import seaborn as sns # gerar visualizações graficas\n",
    "import matplotlib.pyplot as plt # gerar visualizações \n",
    "import os # gerenciar o sistema operacional \n",
    "\n",
    "caminhoPasta = \"C:\\\\Users\\\\FIC\\\\Documents\\\\fundamentos-datapython-erika\\\\Desafio 01 - Super Atacadista\\\\arquivos\\\\vendas\\\\\"  \n",
    "# Criar uma lista vazia para salvar os caminhos \n",
    "\n",
    "diretorios=[]\n",
    "\n",
    "# Laço de repetição \n",
    "\n",
    "\n",
    "for arquivo in os.listdir(caminhoPasta):   #os.listdir(caminhoPasta) # comando para listar um diretorio, arquivos em uma pasta\n",
    "    diretorios.append(caminhoPasta + arquivo)\n",
    "\n",
    "# Criar um data frame vazio \n",
    "\n",
    "df_final = pd.DataFrame ()\n",
    "\n",
    "# Abrir os documentos e agrupar em um unico dataframe\n",
    "for path in diretorios:\n",
    "    df = pd.read_excel(path) \n",
    "    df_final = pd.concat([df_final,df])\n"
   ]
  },
  {
   "cell_type": "code",
   "execution_count": 41,
   "metadata": {},
   "outputs": [],
   "source": [
    "\n",
    "  # Salvar  o data frame como csv\n",
    "df_final.to_csv('./arquivos/Desafio 01 - Super Atacadista/arqCombinado.csv')  "
   ]
  },
  {
   "cell_type": "code",
   "execution_count": 42,
   "metadata": {},
   "outputs": [
    {
     "data": {
      "text/html": [
       "<div>\n",
       "<style scoped>\n",
       "    .dataframe tbody tr th:only-of-type {\n",
       "        vertical-align: middle;\n",
       "    }\n",
       "\n",
       "    .dataframe tbody tr th {\n",
       "        vertical-align: top;\n",
       "    }\n",
       "\n",
       "    .dataframe thead th {\n",
       "        text-align: right;\n",
       "    }\n",
       "</style>\n",
       "<table border=\"1\" class=\"dataframe\">\n",
       "  <thead>\n",
       "    <tr style=\"text-align: right;\">\n",
       "      <th></th>\n",
       "      <th>Unnamed: 1</th>\n",
       "      <th>Unnamed: 2</th>\n",
       "      <th>Unnamed: 3</th>\n",
       "    </tr>\n",
       "  </thead>\n",
       "  <tbody>\n",
       "    <tr>\n",
       "      <th>3</th>\n",
       "      <td>102</td>\n",
       "      <td>2017-01-01 00:00:00</td>\n",
       "      <td>140768.312981</td>\n",
       "    </tr>\n",
       "    <tr>\n",
       "      <th>4</th>\n",
       "      <td>102</td>\n",
       "      <td>2017-02-01 00:00:00</td>\n",
       "      <td>124258.753484</td>\n",
       "    </tr>\n",
       "    <tr>\n",
       "      <th>5</th>\n",
       "      <td>102</td>\n",
       "      <td>2017-03-01 00:00:00</td>\n",
       "      <td>169509.931262</td>\n",
       "    </tr>\n",
       "    <tr>\n",
       "      <th>6</th>\n",
       "      <td>102</td>\n",
       "      <td>2017-04-01 00:00:00</td>\n",
       "      <td>143465.231352</td>\n",
       "    </tr>\n",
       "    <tr>\n",
       "      <th>7</th>\n",
       "      <td>102</td>\n",
       "      <td>2017-05-01 00:00:00</td>\n",
       "      <td>98423.627768</td>\n",
       "    </tr>\n",
       "  </tbody>\n",
       "</table>\n",
       "</div>"
      ],
      "text/plain": [
       "  Unnamed: 1           Unnamed: 2     Unnamed: 3\n",
       "3        102  2017-01-01 00:00:00  140768.312981\n",
       "4        102  2017-02-01 00:00:00  124258.753484\n",
       "5        102  2017-03-01 00:00:00  169509.931262\n",
       "6        102  2017-04-01 00:00:00  143465.231352\n",
       "7        102  2017-05-01 00:00:00   98423.627768"
      ]
     },
     "execution_count": 42,
     "metadata": {},
     "output_type": "execute_result"
    }
   ],
   "source": [
    "df_metas = pd.read_excel(\"C:\\\\Users\\\\FIC\\\\Documents\\\\fundamentos-datapython-erika\\\\Desafio 01 - Super Atacadista\\\\arquivos\\\\base-meta-new.xlsx\")\n",
    "dimensoes = ('./arquivos/Dimensões.xlsx')\n",
    "\n",
    "df_cliente = pd.read_excel(dimensoes, sheet_name='Cliente')\n",
    "df_produto = pd.read_excel(dimensoes, sheet_name='Produto')\n",
    "df_grupoProduto = pd.read_excel(dimensoes, sheet_name='GrupoProduto')\n",
    "df_vendedor = pd.read_excel(dimensoes, sheet_name='Vendedor')\n",
    "df_data = pd.read_excel(dimensoes, sheet_name='Data')\n",
    "# Usar o LOC/Iloc para selecionar os dados\n",
    "df_metas=df_metas.iloc[3:,1:]\n",
    "\n",
    "# Visualizar o cabeçalho do DF metas\n",
    "df_metas.head()"
   ]
  },
  {
   "cell_type": "code",
   "execution_count": 43,
   "metadata": {},
   "outputs": [],
   "source": [
    "# Como fazer o indice começar em 0\n",
    "#df_metas=df_metas.reset_index(0, # inico do indice,drop=True # remove a coluna (indice) já existente,inplace=True # aplica as alterações no objeto)\n",
    "df_metas.reset_index(0,drop=True,inplace=True)"
   ]
  },
  {
   "cell_type": "code",
   "execution_count": 44,
   "metadata": {},
   "outputs": [],
   "source": [
    "# Renomear as colunas do dataframe\n",
    "df_metas.columns=['cdVendedor','Data','meta']\n",
    "#df_metas.head()"
   ]
  },
  {
   "cell_type": "markdown",
   "metadata": {},
   "source": [
    "#### Realizar em todos os dataframes\n",
    "Renomear todas as colunas para ficarem minuculas nos dataframes;\n",
    "\n",
    "Verificar os tipo de dados;\n",
    "\n",
    "Verificar se há duplicadas/ informações nulas;\n",
    "\n",
    "verificar algumas estatiticas basicas do dataframe.\n"
   ]
  },
  {
   "cell_type": "code",
   "execution_count": null,
   "metadata": {},
   "outputs": [],
   "source": [
    "df_final.columns=['dataEmissao','dataVencimento','NFe','cdCliente','cdVendedor','cdProduto','qtdItens','valorUnitario','peso líquido']\n",
    "df_final.head()"
   ]
  },
  {
   "cell_type": "code",
   "execution_count": null,
   "metadata": {},
   "outputs": [],
   "source": [
    "df_final.info()"
   ]
  },
  {
   "cell_type": "code",
   "execution_count": null,
   "metadata": {},
   "outputs": [],
   "source": [
    "df_final.info()"
   ]
  },
  {
   "cell_type": "code",
   "execution_count": null,
   "metadata": {},
   "outputs": [],
   "source": [
    "df_final.duplicated()\n",
    "df_final.drop_duplicates()"
   ]
  },
  {
   "cell_type": "code",
   "execution_count": null,
   "metadata": {},
   "outputs": [],
   "source": [
    "df_final.isnull().sum()"
   ]
  },
  {
   "cell_type": "code",
   "execution_count": null,
   "metadata": {},
   "outputs": [],
   "source": [
    "df_final.describe()"
   ]
  },
  {
   "cell_type": "code",
   "execution_count": null,
   "metadata": {},
   "outputs": [],
   "source": [
    "df_cliente.info()"
   ]
  },
  {
   "cell_type": "code",
   "execution_count": null,
   "metadata": {},
   "outputs": [],
   "source": [
    "df_cliente.isnull().sum()"
   ]
  },
  {
   "cell_type": "code",
   "execution_count": null,
   "metadata": {},
   "outputs": [],
   "source": [
    "df_cliente.duplicated().sum()"
   ]
  },
  {
   "cell_type": "code",
   "execution_count": null,
   "metadata": {},
   "outputs": [],
   "source": [
    "df_cliente.describe()"
   ]
  },
  {
   "cell_type": "code",
   "execution_count": null,
   "metadata": {},
   "outputs": [],
   "source": [
    "df_produto.info()"
   ]
  },
  {
   "cell_type": "code",
   "execution_count": null,
   "metadata": {},
   "outputs": [],
   "source": [
    "df_produto.isnull().sum()"
   ]
  },
  {
   "cell_type": "code",
   "execution_count": null,
   "metadata": {},
   "outputs": [],
   "source": [
    "df_produto.duplicated().sum()"
   ]
  },
  {
   "cell_type": "code",
   "execution_count": null,
   "metadata": {},
   "outputs": [],
   "source": [
    "df_produto.describe()"
   ]
  },
  {
   "cell_type": "markdown",
   "metadata": {},
   "source": [
    "#### Analises Exploratórias\n"
   ]
  },
  {
   "cell_type": "markdown",
   "metadata": {},
   "source": [
    "#### Valor total vendido e Valor total da meta por ano?"
   ]
  },
  {
   "cell_type": "code",
   "execution_count": 45,
   "metadata": {},
   "outputs": [
    {
     "data": {
      "text/html": [
       "<div>\n",
       "<style scoped>\n",
       "    .dataframe tbody tr th:only-of-type {\n",
       "        vertical-align: middle;\n",
       "    }\n",
       "\n",
       "    .dataframe tbody tr th {\n",
       "        vertical-align: top;\n",
       "    }\n",
       "\n",
       "    .dataframe thead th {\n",
       "        text-align: right;\n",
       "    }\n",
       "</style>\n",
       "<table border=\"1\" class=\"dataframe\">\n",
       "  <thead>\n",
       "    <tr style=\"text-align: right;\">\n",
       "      <th></th>\n",
       "      <th>DataEmissao</th>\n",
       "      <th>DataVencimento</th>\n",
       "      <th>NFe</th>\n",
       "      <th>cdCliente</th>\n",
       "      <th>cdVendedor</th>\n",
       "      <th>cdProduto</th>\n",
       "      <th>QtdItens</th>\n",
       "      <th>ValorUnitario</th>\n",
       "      <th>Peso Líquido</th>\n",
       "    </tr>\n",
       "  </thead>\n",
       "  <tbody>\n",
       "    <tr>\n",
       "      <th>0</th>\n",
       "      <td>2017-01-12</td>\n",
       "      <td>2017-02-22</td>\n",
       "      <td>1492762</td>\n",
       "      <td>3140218</td>\n",
       "      <td>265</td>\n",
       "      <td>1073</td>\n",
       "      <td>6</td>\n",
       "      <td>8.83</td>\n",
       "      <td>0.60</td>\n",
       "    </tr>\n",
       "    <tr>\n",
       "      <th>1</th>\n",
       "      <td>2017-01-12</td>\n",
       "      <td>2017-02-22</td>\n",
       "      <td>1492762</td>\n",
       "      <td>3140218</td>\n",
       "      <td>265</td>\n",
       "      <td>1420</td>\n",
       "      <td>6</td>\n",
       "      <td>4.44</td>\n",
       "      <td>5.40</td>\n",
       "    </tr>\n",
       "    <tr>\n",
       "      <th>2</th>\n",
       "      <td>2017-01-12</td>\n",
       "      <td>2017-02-22</td>\n",
       "      <td>1492762</td>\n",
       "      <td>3140218</td>\n",
       "      <td>265</td>\n",
       "      <td>264</td>\n",
       "      <td>10</td>\n",
       "      <td>0.96</td>\n",
       "      <td>1.92</td>\n",
       "    </tr>\n",
       "    <tr>\n",
       "      <th>3</th>\n",
       "      <td>2017-01-13</td>\n",
       "      <td>2017-01-29</td>\n",
       "      <td>1492719</td>\n",
       "      <td>2983332</td>\n",
       "      <td>265</td>\n",
       "      <td>1154</td>\n",
       "      <td>6</td>\n",
       "      <td>2.92</td>\n",
       "      <td>1.26</td>\n",
       "    </tr>\n",
       "    <tr>\n",
       "      <th>4</th>\n",
       "      <td>2017-01-13</td>\n",
       "      <td>2017-01-29</td>\n",
       "      <td>1492719</td>\n",
       "      <td>2983332</td>\n",
       "      <td>265</td>\n",
       "      <td>1527</td>\n",
       "      <td>6</td>\n",
       "      <td>2.81</td>\n",
       "      <td>1.40</td>\n",
       "    </tr>\n",
       "  </tbody>\n",
       "</table>\n",
       "</div>"
      ],
      "text/plain": [
       "  DataEmissao DataVencimento      NFe  cdCliente  cdVendedor  cdProduto  \\\n",
       "0  2017-01-12     2017-02-22  1492762    3140218         265       1073   \n",
       "1  2017-01-12     2017-02-22  1492762    3140218         265       1420   \n",
       "2  2017-01-12     2017-02-22  1492762    3140218         265        264   \n",
       "3  2017-01-13     2017-01-29  1492719    2983332         265       1154   \n",
       "4  2017-01-13     2017-01-29  1492719    2983332         265       1527   \n",
       "\n",
       "   QtdItens  ValorUnitario  Peso Líquido  \n",
       "0         6           8.83          0.60  \n",
       "1         6           4.44          5.40  \n",
       "2        10           0.96          1.92  \n",
       "3         6           2.92          1.26  \n",
       "4         6           2.81          1.40  "
      ]
     },
     "execution_count": 45,
     "metadata": {},
     "output_type": "execute_result"
    }
   ],
   "source": [
    "df_final.head()"
   ]
  },
  {
   "cell_type": "code",
   "execution_count": 46,
   "metadata": {},
   "outputs": [
    {
     "data": {
      "text/html": [
       "<div>\n",
       "<style scoped>\n",
       "    .dataframe tbody tr th:only-of-type {\n",
       "        vertical-align: middle;\n",
       "    }\n",
       "\n",
       "    .dataframe tbody tr th {\n",
       "        vertical-align: top;\n",
       "    }\n",
       "\n",
       "    .dataframe thead th {\n",
       "        text-align: right;\n",
       "    }\n",
       "</style>\n",
       "<table border=\"1\" class=\"dataframe\">\n",
       "  <thead>\n",
       "    <tr style=\"text-align: right;\">\n",
       "      <th></th>\n",
       "      <th>Ano</th>\n",
       "      <th>valorTotal</th>\n",
       "    </tr>\n",
       "  </thead>\n",
       "  <tbody>\n",
       "    <tr>\n",
       "      <th>0</th>\n",
       "      <td>2017</td>\n",
       "      <td>6648222.05</td>\n",
       "    </tr>\n",
       "    <tr>\n",
       "      <th>1</th>\n",
       "      <td>2018</td>\n",
       "      <td>10214809.43</td>\n",
       "    </tr>\n",
       "    <tr>\n",
       "      <th>2</th>\n",
       "      <td>2019</td>\n",
       "      <td>1046201.01</td>\n",
       "    </tr>\n",
       "  </tbody>\n",
       "</table>\n",
       "</div>"
      ],
      "text/plain": [
       "    Ano   valorTotal\n",
       "0  2017   6648222.05\n",
       "1  2018  10214809.43\n",
       "2  2019   1046201.01"
      ]
     },
     "execution_count": 46,
     "metadata": {},
     "output_type": "execute_result"
    }
   ],
   "source": [
    "df_final.head()\n",
    "#Adicionar o coluna valorTotal ao data frame ( multiplicar a coluna QtdItens por ValorUnitario e depois somar)\n",
    "\n",
    "df_final['valorTotal'] = df_final['QtdItens']*df_final['ValorUnitario']\n",
    "\n",
    "\n",
    "df_final =pd.merge(\n",
    "    df_final[['DataEmissao','QtdItens','ValorUnitario','valorTotal']], \n",
    "    df_data[['Data','Ano']], \n",
    "    left_on='DataEmissao',\n",
    "    right_on='Data'\n",
    "    )\n",
    "## Agrupar por ano, somando a coluna valor total\n",
    "\n",
    "df_final = df_final[['Ano','valorTotal']].groupby('Ano').sum().reset_index()\n",
    "df_final.head()\n",
    "\n"
   ]
  },
  {
   "cell_type": "code",
   "execution_count": 47,
   "metadata": {},
   "outputs": [
    {
     "data": {
      "text/plain": [
       "Text(0, 0.5, 'Vendas')"
      ]
     },
     "execution_count": 47,
     "metadata": {},
     "output_type": "execute_result"
    },
    {
     "data": {
      "image/png": "[encoded data removed]",
      "text/plain": [
       "<Figure size 640x480 with 1 Axes>"
      ]
     },
     "metadata": {},
     "output_type": "display_data"
    }
   ],
   "source": [
    "sns.barplot( data=df_final, x = 'Ano', y = 'valorTotal')\n",
    "plt.title('Vendas por ano')\n",
    "plt.xlabel('Anos')\n",
    "plt.ylabel('Vendas')\n"
   ]
  },
  {
   "cell_type": "code",
   "execution_count": 48,
   "metadata": {},
   "outputs": [],
   "source": [
    "df_metas.columns=['cdVendedor','data','meta']"
   ]
  },
  {
   "cell_type": "code",
   "execution_count": 51,
   "metadata": {},
   "outputs": [
    {
     "data": {
      "text/html": [
       "<div>\n",
       "<style scoped>\n",
       "    .dataframe tbody tr th:only-of-type {\n",
       "        vertical-align: middle;\n",
       "    }\n",
       "\n",
       "    .dataframe tbody tr th {\n",
       "        vertical-align: top;\n",
       "    }\n",
       "\n",
       "    .dataframe thead th {\n",
       "        text-align: right;\n",
       "    }\n",
       "</style>\n",
       "<table border=\"1\" class=\"dataframe\">\n",
       "  <thead>\n",
       "    <tr style=\"text-align: right;\">\n",
       "      <th></th>\n",
       "      <th>Data</th>\n",
       "      <th>Ano</th>\n",
       "      <th>Mes</th>\n",
       "      <th>MesNum</th>\n",
       "      <th>Dia</th>\n",
       "    </tr>\n",
       "  </thead>\n",
       "  <tbody>\n",
       "    <tr>\n",
       "      <th>0</th>\n",
       "      <td>2017-01-01</td>\n",
       "      <td>2017</td>\n",
       "      <td>Janeiro</td>\n",
       "      <td>1</td>\n",
       "      <td>1</td>\n",
       "    </tr>\n",
       "    <tr>\n",
       "      <th>1</th>\n",
       "      <td>2017-01-02</td>\n",
       "      <td>2017</td>\n",
       "      <td>Janeiro</td>\n",
       "      <td>1</td>\n",
       "      <td>2</td>\n",
       "    </tr>\n",
       "    <tr>\n",
       "      <th>2</th>\n",
       "      <td>2017-01-03</td>\n",
       "      <td>2017</td>\n",
       "      <td>Janeiro</td>\n",
       "      <td>1</td>\n",
       "      <td>3</td>\n",
       "    </tr>\n",
       "    <tr>\n",
       "      <th>3</th>\n",
       "      <td>2017-01-04</td>\n",
       "      <td>2017</td>\n",
       "      <td>Janeiro</td>\n",
       "      <td>1</td>\n",
       "      <td>4</td>\n",
       "    </tr>\n",
       "    <tr>\n",
       "      <th>4</th>\n",
       "      <td>2017-01-05</td>\n",
       "      <td>2017</td>\n",
       "      <td>Janeiro</td>\n",
       "      <td>1</td>\n",
       "      <td>5</td>\n",
       "    </tr>\n",
       "    <tr>\n",
       "      <th>...</th>\n",
       "      <td>...</td>\n",
       "      <td>...</td>\n",
       "      <td>...</td>\n",
       "      <td>...</td>\n",
       "      <td>...</td>\n",
       "    </tr>\n",
       "    <tr>\n",
       "      <th>1090</th>\n",
       "      <td>2019-12-27</td>\n",
       "      <td>2019</td>\n",
       "      <td>Dezembro</td>\n",
       "      <td>12</td>\n",
       "      <td>27</td>\n",
       "    </tr>\n",
       "    <tr>\n",
       "      <th>1091</th>\n",
       "      <td>2019-12-28</td>\n",
       "      <td>2019</td>\n",
       "      <td>Dezembro</td>\n",
       "      <td>12</td>\n",
       "      <td>28</td>\n",
       "    </tr>\n",
       "    <tr>\n",
       "      <th>1092</th>\n",
       "      <td>2019-12-29</td>\n",
       "      <td>2019</td>\n",
       "      <td>Dezembro</td>\n",
       "      <td>12</td>\n",
       "      <td>29</td>\n",
       "    </tr>\n",
       "    <tr>\n",
       "      <th>1093</th>\n",
       "      <td>2019-12-30</td>\n",
       "      <td>2019</td>\n",
       "      <td>Dezembro</td>\n",
       "      <td>12</td>\n",
       "      <td>30</td>\n",
       "    </tr>\n",
       "    <tr>\n",
       "      <th>1094</th>\n",
       "      <td>2019-12-31</td>\n",
       "      <td>2019</td>\n",
       "      <td>Dezembro</td>\n",
       "      <td>12</td>\n",
       "      <td>31</td>\n",
       "    </tr>\n",
       "  </tbody>\n",
       "</table>\n",
       "<p>1095 rows × 5 columns</p>\n",
       "</div>"
      ],
      "text/plain": [
       "           Data   Ano       Mes  MesNum  Dia\n",
       "0    2017-01-01  2017   Janeiro       1    1\n",
       "1    2017-01-02  2017   Janeiro       1    2\n",
       "2    2017-01-03  2017   Janeiro       1    3\n",
       "3    2017-01-04  2017   Janeiro       1    4\n",
       "4    2017-01-05  2017   Janeiro       1    5\n",
       "...         ...   ...       ...     ...  ...\n",
       "1090 2019-12-27  2019  Dezembro      12   27\n",
       "1091 2019-12-28  2019  Dezembro      12   28\n",
       "1092 2019-12-29  2019  Dezembro      12   29\n",
       "1093 2019-12-30  2019  Dezembro      12   30\n",
       "1094 2019-12-31  2019  Dezembro      12   31\n",
       "\n",
       "[1095 rows x 5 columns]"
      ]
     },
     "execution_count": 51,
     "metadata": {},
     "output_type": "execute_result"
    }
   ],
   "source": [
    "df_data"
   ]
  },
  {
   "cell_type": "code",
   "execution_count": 60,
   "metadata": {},
   "outputs": [
    {
     "data": {
      "text/html": [
       "<div>\n",
       "<style scoped>\n",
       "    .dataframe tbody tr th:only-of-type {\n",
       "        vertical-align: middle;\n",
       "    }\n",
       "\n",
       "    .dataframe tbody tr th {\n",
       "        vertical-align: top;\n",
       "    }\n",
       "\n",
       "    .dataframe thead th {\n",
       "        text-align: right;\n",
       "    }\n",
       "</style>\n",
       "<table border=\"1\" class=\"dataframe\">\n",
       "  <thead>\n",
       "    <tr style=\"text-align: right;\">\n",
       "      <th></th>\n",
       "      <th>Ano</th>\n",
       "      <th>meta</th>\n",
       "    </tr>\n",
       "  </thead>\n",
       "  <tbody>\n",
       "    <tr>\n",
       "      <th>0</th>\n",
       "      <td>2017</td>\n",
       "      <td>1.174900e+07</td>\n",
       "    </tr>\n",
       "    <tr>\n",
       "      <th>1</th>\n",
       "      <td>2018</td>\n",
       "      <td>1.208240e+07</td>\n",
       "    </tr>\n",
       "    <tr>\n",
       "      <th>2</th>\n",
       "      <td>2019</td>\n",
       "      <td>1.075291e+07</td>\n",
       "    </tr>\n",
       "  </tbody>\n",
       "</table>\n",
       "</div>"
      ],
      "text/plain": [
       "    Ano          meta\n",
       "0  2017  1.174900e+07\n",
       "1  2018  1.208240e+07\n",
       "2  2019  1.075291e+07"
      ]
     },
     "execution_count": 60,
     "metadata": {},
     "output_type": "execute_result"
    }
   ],
   "source": [
    "#CONVERTER A COLUMA DATA NA TABELA METAS PARA FORMATO DE DATA\n",
    "\n",
    "df_metas['data']=df_metas['data'].astype('datetime64[ns]')\n",
    "\n",
    "# Converter o tipo de dado da coluna meta da tabela meta\n",
    "\n",
    "df_metas['meta']= df_metas['meta'].astype('float')\n",
    "\n",
    "df_metasAno= df_metasAno =pd.merge(\n",
    "    df_metas[['data','meta']], \n",
    "    df_data[['Data','Ano']], \n",
    "    left_on='data',\n",
    "    right_on='Data'\n",
    "    )\n",
    "\n",
    "df_metasAno = df_metasAno[['Ano','meta']].groupby('Ano').sum().reset_index()\n",
    "df_metasAno.head()\n"
   ]
  },
  {
   "cell_type": "code",
   "execution_count": 70,
   "metadata": {},
   "outputs": [
    {
     "ename": "KeyError",
     "evalue": "\"None of [Index(['DataEmissao', 'QtdItens'], dtype='object')] are in the [columns]\"",
     "output_type": "error",
     "traceback": [
      "\u001b[1;31m---------------------------------------------------------------------------\u001b[0m",
      "\u001b[1;31mKeyError\u001b[0m                                  Traceback (most recent call last)",
      "\u001b[1;32mc:\\Users\\FIC\\Documents\\fundamentos-datapython-erika\\Desafio 01 - Super Atacadista\\desafioauladesafio.ipynb Cell 30\u001b[0m line \u001b[0;36m2\n\u001b[0;32m      <a href='vscode-notebook-cell:/c%3A/Users/FIC/Documents/fundamentos-datapython-erika/Desafio%2001%20-%20Super%20Atacadista/desafioauladesafio.ipynb#X45sZmlsZQ%3D%3D?line=0'>1</a>\u001b[0m \u001b[39m# Crie um grafico de linhas para exibir o comportamento das vendas ao longo do ano de 2018\u001b[39;00m\n\u001b[1;32m----> <a href='vscode-notebook-cell:/c%3A/Users/FIC/Documents/fundamentos-datapython-erika/Desafio%2001%20-%20Super%20Atacadista/desafioauladesafio.ipynb#X45sZmlsZQ%3D%3D?line=1'>2</a>\u001b[0m df_result\u001b[39m=\u001b[39mpd\u001b[39m.\u001b[39mmerge(df_final[[\u001b[39m'\u001b[39;49m\u001b[39mDataEmissao\u001b[39;49m\u001b[39m'\u001b[39;49m,\u001b[39m'\u001b[39;49m\u001b[39mQtdItens\u001b[39;49m\u001b[39m'\u001b[39;49m]],df_metas[[\u001b[39m'\u001b[39m\u001b[39mData\u001b[39m\u001b[39m'\u001b[39m,\u001b[39m'\u001b[39m\u001b[39mMes\u001b[39m\u001b[39m'\u001b[39m,\u001b[39m'\u001b[39m\u001b[39mMesNum\u001b[39m\u001b[39m'\u001b[39m]],left_on\u001b[39m=\u001b[39m\u001b[39m'\u001b[39m\u001b[39mDataEmissao\u001b[39m\u001b[39m'\u001b[39m,right_on\u001b[39m=\u001b[39m\u001b[39m'\u001b[39m\u001b[39mData\u001b[39m\u001b[39m'\u001b[39m)\n",
      "File \u001b[1;32mc:\\Python311\\Lib\\site-packages\\pandas\\core\\frame.py:3902\u001b[0m, in \u001b[0;36mDataFrame.__getitem__\u001b[1;34m(self, key)\u001b[0m\n\u001b[0;32m   3900\u001b[0m     \u001b[39mif\u001b[39;00m is_iterator(key):\n\u001b[0;32m   3901\u001b[0m         key \u001b[39m=\u001b[39m \u001b[39mlist\u001b[39m(key)\n\u001b[1;32m-> 3902\u001b[0m     indexer \u001b[39m=\u001b[39m \u001b[39mself\u001b[39;49m\u001b[39m.\u001b[39;49mcolumns\u001b[39m.\u001b[39;49m_get_indexer_strict(key, \u001b[39m\"\u001b[39;49m\u001b[39mcolumns\u001b[39;49m\u001b[39m\"\u001b[39;49m)[\u001b[39m1\u001b[39m]\n\u001b[0;32m   3904\u001b[0m \u001b[39m# take() does not accept boolean indexers\u001b[39;00m\n\u001b[0;32m   3905\u001b[0m \u001b[39mif\u001b[39;00m \u001b[39mgetattr\u001b[39m(indexer, \u001b[39m\"\u001b[39m\u001b[39mdtype\u001b[39m\u001b[39m\"\u001b[39m, \u001b[39mNone\u001b[39;00m) \u001b[39m==\u001b[39m \u001b[39mbool\u001b[39m:\n",
      "File \u001b[1;32mc:\\Python311\\Lib\\site-packages\\pandas\\core\\indexes\\base.py:6114\u001b[0m, in \u001b[0;36mIndex._get_indexer_strict\u001b[1;34m(self, key, axis_name)\u001b[0m\n\u001b[0;32m   6111\u001b[0m \u001b[39melse\u001b[39;00m:\n\u001b[0;32m   6112\u001b[0m     keyarr, indexer, new_indexer \u001b[39m=\u001b[39m \u001b[39mself\u001b[39m\u001b[39m.\u001b[39m_reindex_non_unique(keyarr)\n\u001b[1;32m-> 6114\u001b[0m \u001b[39mself\u001b[39;49m\u001b[39m.\u001b[39;49m_raise_if_missing(keyarr, indexer, axis_name)\n\u001b[0;32m   6116\u001b[0m keyarr \u001b[39m=\u001b[39m \u001b[39mself\u001b[39m\u001b[39m.\u001b[39mtake(indexer)\n\u001b[0;32m   6117\u001b[0m \u001b[39mif\u001b[39;00m \u001b[39misinstance\u001b[39m(key, Index):\n\u001b[0;32m   6118\u001b[0m     \u001b[39m# GH 42790 - Preserve name from an Index\u001b[39;00m\n",
      "File \u001b[1;32mc:\\Python311\\Lib\\site-packages\\pandas\\core\\indexes\\base.py:6175\u001b[0m, in \u001b[0;36mIndex._raise_if_missing\u001b[1;34m(self, key, indexer, axis_name)\u001b[0m\n\u001b[0;32m   6173\u001b[0m     \u001b[39mif\u001b[39;00m use_interval_msg:\n\u001b[0;32m   6174\u001b[0m         key \u001b[39m=\u001b[39m \u001b[39mlist\u001b[39m(key)\n\u001b[1;32m-> 6175\u001b[0m     \u001b[39mraise\u001b[39;00m \u001b[39mKeyError\u001b[39;00m(\u001b[39mf\u001b[39m\u001b[39m\"\u001b[39m\u001b[39mNone of [\u001b[39m\u001b[39m{\u001b[39;00mkey\u001b[39m}\u001b[39;00m\u001b[39m] are in the [\u001b[39m\u001b[39m{\u001b[39;00maxis_name\u001b[39m}\u001b[39;00m\u001b[39m]\u001b[39m\u001b[39m\"\u001b[39m)\n\u001b[0;32m   6177\u001b[0m not_found \u001b[39m=\u001b[39m \u001b[39mlist\u001b[39m(ensure_index(key)[missing_mask\u001b[39m.\u001b[39mnonzero()[\u001b[39m0\u001b[39m]]\u001b[39m.\u001b[39munique())\n\u001b[0;32m   6178\u001b[0m \u001b[39mraise\u001b[39;00m \u001b[39mKeyError\u001b[39;00m(\u001b[39mf\u001b[39m\u001b[39m\"\u001b[39m\u001b[39m{\u001b[39;00mnot_found\u001b[39m}\u001b[39;00m\u001b[39m not in index\u001b[39m\u001b[39m\"\u001b[39m)\n",
      "\u001b[1;31mKeyError\u001b[0m: \"None of [Index(['DataEmissao', 'QtdItens'], dtype='object')] are in the [columns]\""
     ]
    }
   ],
   "source": [
    "# Crie um grafico de linhas para exibir o comportamento das vendas ao longo do ano de 2018\n",
    "df_result=pd.merge(df_final[['DataEmissao','QtdItens']],df_metas[['Data','Mes','MesNum']],left_on='DataEmissao',right_on='Data')\n"
   ]
  },
  {
   "cell_type": "markdown",
   "metadata": {},
   "source": []
  }
 ],
 "metadata": {
  "kernelspec": {
   "display_name": "Python 3",
   "language": "python",
   "name": "python3"
  },
  "language_info": {
   "codemirror_mode": {
    "name": "ipython",
    "version": 3
   },
   "file_extension": ".py",
   "mimetype": "text/x-python",
   "name": "python",
   "nbconvert_exporter": "python",
   "pygments_lexer": "ipython3",
   "version": "3.11.0"
  }
 },
 "nbformat": 4,
 "nbformat_minor": 2
}
